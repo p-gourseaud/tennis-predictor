{
 "cells": [
  {
   "cell_type": "code",
   "execution_count": 1,
   "metadata": {},
   "outputs": [
    {
     "name": "stdout",
     "output_type": "stream",
     "text": [
      "/home/pg/projects/tennis-predictor\n"
     ]
    },
    {
     "name": "stderr",
     "output_type": "stream",
     "text": [
      "/home/pg/projects/tennis-predictor/.venv/lib/python3.10/site-packages/IPython/core/magics/osm.py:417: UserWarning: This is now an optional IPython functionality, setting dhist requires you to install the `pickleshare` library.\n",
      "  self.shell.db['dhist'] = compress_dhist(dhist)[-100:]\n"
     ]
    }
   ],
   "source": [
    "%cd .."
   ]
  },
  {
   "cell_type": "code",
   "execution_count": 16,
   "metadata": {},
   "outputs": [],
   "source": [
    "import sqlite3\n",
    "import pandas as pd\n",
    "from matplotlib import pyplot as plt"
   ]
  },
  {
   "cell_type": "markdown",
   "metadata": {},
   "source": [
    "# Data exploration"
   ]
  },
  {
   "cell_type": "markdown",
   "metadata": {},
   "source": [
    "## Tennis ATP Database"
   ]
  },
  {
   "cell_type": "code",
   "execution_count": 4,
   "metadata": {},
   "outputs": [],
   "source": [
    "from tennis_predictor.config.data import TENNIS_ATP_DATABASE_PATH\n",
    "cnx = sqlite3.connect(TENNIS_ATP_DATABASE_PATH)"
   ]
  },
  {
   "cell_type": "markdown",
   "metadata": {},
   "source": [
    "### Tables"
   ]
  },
  {
   "cell_type": "code",
   "execution_count": 5,
   "metadata": {},
   "outputs": [
    {
     "name": "stdout",
     "output_type": "stream",
     "text": [
      "player\n",
      "matches\n",
      "ranking\n"
     ]
    }
   ],
   "source": [
    "# Create a cursor object\n",
    "cursor = cnx.cursor()\n",
    "\n",
    "# Execute the SQL command to list all tables\n",
    "cursor.execute(\"SELECT name FROM sqlite_master WHERE type='table';\")\n",
    "\n",
    "# Fetch all results\n",
    "tables = cursor.fetchall()\n",
    "\n",
    "# Print the list of tables\n",
    "for table in tables:\n",
    "    print(table[0])"
   ]
  },
  {
   "cell_type": "code",
   "execution_count": 6,
   "metadata": {},
   "outputs": [
    {
     "data": {
      "text/html": [
       "<div>\n",
       "<style scoped>\n",
       "    .dataframe tbody tr th:only-of-type {\n",
       "        vertical-align: middle;\n",
       "    }\n",
       "\n",
       "    .dataframe tbody tr th {\n",
       "        vertical-align: top;\n",
       "    }\n",
       "\n",
       "    .dataframe thead th {\n",
       "        text-align: right;\n",
       "    }\n",
       "</style>\n",
       "<table border=\"1\" class=\"dataframe\">\n",
       "  <thead>\n",
       "    <tr style=\"text-align: right;\">\n",
       "      <th></th>\n",
       "      <th>id</th>\n",
       "      <th>firstName</th>\n",
       "      <th>lastName</th>\n",
       "      <th>hand</th>\n",
       "      <th>birth</th>\n",
       "      <th>country</th>\n",
       "    </tr>\n",
       "  </thead>\n",
       "  <tbody>\n",
       "    <tr>\n",
       "      <th>0</th>\n",
       "      <td>player_id</td>\n",
       "      <td>name_first</td>\n",
       "      <td>name_last</td>\n",
       "      <td>hand</td>\n",
       "      <td>dob</td>\n",
       "      <td>ioc</td>\n",
       "    </tr>\n",
       "    <tr>\n",
       "      <th>1</th>\n",
       "      <td>100001</td>\n",
       "      <td>Gardnar</td>\n",
       "      <td>Mulloy</td>\n",
       "      <td>R</td>\n",
       "      <td>19131122</td>\n",
       "      <td>USA</td>\n",
       "    </tr>\n",
       "    <tr>\n",
       "      <th>2</th>\n",
       "      <td>100002</td>\n",
       "      <td>Pancho</td>\n",
       "      <td>Segura</td>\n",
       "      <td>R</td>\n",
       "      <td>19210620</td>\n",
       "      <td>ECU</td>\n",
       "    </tr>\n",
       "    <tr>\n",
       "      <th>3</th>\n",
       "      <td>100003</td>\n",
       "      <td>Frank</td>\n",
       "      <td>Sedgman</td>\n",
       "      <td>R</td>\n",
       "      <td>19271002</td>\n",
       "      <td>AUS</td>\n",
       "    </tr>\n",
       "    <tr>\n",
       "      <th>4</th>\n",
       "      <td>100004</td>\n",
       "      <td>Giuseppe</td>\n",
       "      <td>Merlo</td>\n",
       "      <td>R</td>\n",
       "      <td>19271011</td>\n",
       "      <td>ITA</td>\n",
       "    </tr>\n",
       "  </tbody>\n",
       "</table>\n",
       "</div>"
      ],
      "text/plain": [
       "          id   firstName   lastName  hand     birth country\n",
       "0  player_id  name_first  name_last  hand       dob     ioc\n",
       "1     100001     Gardnar     Mulloy     R  19131122     USA\n",
       "2     100002      Pancho     Segura     R  19210620     ECU\n",
       "3     100003       Frank    Sedgman     R  19271002     AUS\n",
       "4     100004    Giuseppe      Merlo     R  19271011     ITA"
      ]
     },
     "execution_count": 6,
     "metadata": {},
     "output_type": "execute_result"
    }
   ],
   "source": [
    "df_player = pd.read_sql_query(\"SELECT * FROM player LIMIT 5\", cnx)\n",
    "df_player"
   ]
  },
  {
   "cell_type": "code",
   "execution_count": 7,
   "metadata": {},
   "outputs": [
    {
     "name": "stdout",
     "output_type": "stream",
     "text": [
      "65990\n"
     ]
    }
   ],
   "source": [
    "# Execute the SQL command to list all tables\n",
    "cursor.execute(\"SELECT COUNT(*) FROM player;\")\n",
    "\n",
    "# Fetch all results\n",
    "res = cursor.fetchall()\n",
    "print(res[0][0])"
   ]
  },
  {
   "cell_type": "code",
   "execution_count": 9,
   "metadata": {},
   "outputs": [
    {
     "data": {
      "text/html": [
       "<div>\n",
       "<style scoped>\n",
       "    .dataframe tbody tr th:only-of-type {\n",
       "        vertical-align: middle;\n",
       "    }\n",
       "\n",
       "    .dataframe tbody tr th {\n",
       "        vertical-align: top;\n",
       "    }\n",
       "\n",
       "    .dataframe thead th {\n",
       "        text-align: right;\n",
       "    }\n",
       "</style>\n",
       "<table border=\"1\" class=\"dataframe\">\n",
       "  <thead>\n",
       "    <tr style=\"text-align: right;\">\n",
       "      <th></th>\n",
       "      <th>tourney_id</th>\n",
       "      <th>tourney_name</th>\n",
       "      <th>surface</th>\n",
       "      <th>draw_size</th>\n",
       "      <th>tourney_level</th>\n",
       "      <th>tourney_date</th>\n",
       "      <th>match_num</th>\n",
       "      <th>winner_id</th>\n",
       "      <th>winner_seed</th>\n",
       "      <th>winner_entry</th>\n",
       "      <th>...</th>\n",
       "      <th>l_1stIn</th>\n",
       "      <th>l_1stWon</th>\n",
       "      <th>l_2ndWon</th>\n",
       "      <th>l_SvGms</th>\n",
       "      <th>l_bpSaved</th>\n",
       "      <th>l_bpFaced</th>\n",
       "      <th>winner_rank</th>\n",
       "      <th>winner_rank_points</th>\n",
       "      <th>loser_rank</th>\n",
       "      <th>loser_rank_points</th>\n",
       "    </tr>\n",
       "  </thead>\n",
       "  <tbody>\n",
       "    <tr>\n",
       "      <th>0</th>\n",
       "      <td>1968-2029</td>\n",
       "      <td>Dublin</td>\n",
       "      <td>Grass</td>\n",
       "      <td>32</td>\n",
       "      <td>A</td>\n",
       "      <td>19680708</td>\n",
       "      <td>270</td>\n",
       "      <td>112411</td>\n",
       "      <td></td>\n",
       "      <td></td>\n",
       "      <td>...</td>\n",
       "      <td></td>\n",
       "      <td></td>\n",
       "      <td></td>\n",
       "      <td></td>\n",
       "      <td></td>\n",
       "      <td></td>\n",
       "      <td></td>\n",
       "      <td></td>\n",
       "      <td></td>\n",
       "      <td></td>\n",
       "    </tr>\n",
       "    <tr>\n",
       "      <th>1</th>\n",
       "      <td>1968-2029</td>\n",
       "      <td>Dublin</td>\n",
       "      <td>Grass</td>\n",
       "      <td>32</td>\n",
       "      <td>A</td>\n",
       "      <td>19680708</td>\n",
       "      <td>271</td>\n",
       "      <td>126914</td>\n",
       "      <td></td>\n",
       "      <td></td>\n",
       "      <td>...</td>\n",
       "      <td></td>\n",
       "      <td></td>\n",
       "      <td></td>\n",
       "      <td></td>\n",
       "      <td></td>\n",
       "      <td></td>\n",
       "      <td></td>\n",
       "      <td></td>\n",
       "      <td></td>\n",
       "      <td></td>\n",
       "    </tr>\n",
       "    <tr>\n",
       "      <th>2</th>\n",
       "      <td>1968-2029</td>\n",
       "      <td>Dublin</td>\n",
       "      <td>Grass</td>\n",
       "      <td>32</td>\n",
       "      <td>A</td>\n",
       "      <td>19680708</td>\n",
       "      <td>272</td>\n",
       "      <td>209523</td>\n",
       "      <td></td>\n",
       "      <td></td>\n",
       "      <td>...</td>\n",
       "      <td></td>\n",
       "      <td></td>\n",
       "      <td></td>\n",
       "      <td></td>\n",
       "      <td></td>\n",
       "      <td></td>\n",
       "      <td></td>\n",
       "      <td></td>\n",
       "      <td></td>\n",
       "      <td></td>\n",
       "    </tr>\n",
       "    <tr>\n",
       "      <th>3</th>\n",
       "      <td>1968-2029</td>\n",
       "      <td>Dublin</td>\n",
       "      <td>Grass</td>\n",
       "      <td>32</td>\n",
       "      <td>A</td>\n",
       "      <td>19680708</td>\n",
       "      <td>273</td>\n",
       "      <td>100084</td>\n",
       "      <td></td>\n",
       "      <td></td>\n",
       "      <td>...</td>\n",
       "      <td></td>\n",
       "      <td></td>\n",
       "      <td></td>\n",
       "      <td></td>\n",
       "      <td></td>\n",
       "      <td></td>\n",
       "      <td></td>\n",
       "      <td></td>\n",
       "      <td></td>\n",
       "      <td></td>\n",
       "    </tr>\n",
       "    <tr>\n",
       "      <th>4</th>\n",
       "      <td>1968-2029</td>\n",
       "      <td>Dublin</td>\n",
       "      <td>Grass</td>\n",
       "      <td>32</td>\n",
       "      <td>A</td>\n",
       "      <td>19680708</td>\n",
       "      <td>274</td>\n",
       "      <td>100132</td>\n",
       "      <td></td>\n",
       "      <td></td>\n",
       "      <td>...</td>\n",
       "      <td></td>\n",
       "      <td></td>\n",
       "      <td></td>\n",
       "      <td></td>\n",
       "      <td></td>\n",
       "      <td></td>\n",
       "      <td></td>\n",
       "      <td></td>\n",
       "      <td></td>\n",
       "      <td></td>\n",
       "    </tr>\n",
       "  </tbody>\n",
       "</table>\n",
       "<p>5 rows × 49 columns</p>\n",
       "</div>"
      ],
      "text/plain": [
       "  tourney_id tourney_name surface draw_size tourney_level tourney_date  \\\n",
       "0  1968-2029       Dublin   Grass        32             A     19680708   \n",
       "1  1968-2029       Dublin   Grass        32             A     19680708   \n",
       "2  1968-2029       Dublin   Grass        32             A     19680708   \n",
       "3  1968-2029       Dublin   Grass        32             A     19680708   \n",
       "4  1968-2029       Dublin   Grass        32             A     19680708   \n",
       "\n",
       "  match_num winner_id winner_seed winner_entry  ... l_1stIn l_1stWon l_2ndWon  \\\n",
       "0       270    112411                           ...                             \n",
       "1       271    126914                           ...                             \n",
       "2       272    209523                           ...                             \n",
       "3       273    100084                           ...                             \n",
       "4       274    100132                           ...                             \n",
       "\n",
       "  l_SvGms l_bpSaved l_bpFaced winner_rank winner_rank_points loser_rank  \\\n",
       "0                                                                         \n",
       "1                                                                         \n",
       "2                                                                         \n",
       "3                                                                         \n",
       "4                                                                         \n",
       "\n",
       "  loser_rank_points  \n",
       "0                    \n",
       "1                    \n",
       "2                    \n",
       "3                    \n",
       "4                    \n",
       "\n",
       "[5 rows x 49 columns]"
      ]
     },
     "execution_count": 9,
     "metadata": {},
     "output_type": "execute_result"
    }
   ],
   "source": [
    "df_matches = pd.read_sql_query(\"SELECT * FROM matches LIMIT 5\", cnx)\n",
    "df_matches"
   ]
  },
  {
   "cell_type": "code",
   "execution_count": 10,
   "metadata": {},
   "outputs": [
    {
     "data": {
      "text/plain": [
       "Index(['tourney_id', 'tourney_name', 'surface', 'draw_size', 'tourney_level',\n",
       "       'tourney_date', 'match_num', 'winner_id', 'winner_seed', 'winner_entry',\n",
       "       'winner_name', 'winner_hand', 'winner_ht', 'winner_ioc', 'winner_age',\n",
       "       'loser_id', 'loser_seed', 'loser_entry', 'loser_name', 'loser_hand',\n",
       "       'loser_ht', 'loser_ioc', 'loser_age', 'score', 'best_of', 'round',\n",
       "       'minutes', 'w_ace', 'w_df', 'w_svpt', 'w_1stIn', 'w_1stWon', 'w_2ndWon',\n",
       "       'w_SvGms', 'w_bpSaved', 'w_bpFaced', 'l_ace', 'l_df', 'l_svpt',\n",
       "       'l_1stIn', 'l_1stWon', 'l_2ndWon', 'l_SvGms', 'l_bpSaved', 'l_bpFaced',\n",
       "       'winner_rank', 'winner_rank_points', 'loser_rank', 'loser_rank_points'],\n",
       "      dtype='object')"
      ]
     },
     "execution_count": 10,
     "metadata": {},
     "output_type": "execute_result"
    }
   ],
   "source": [
    "df_matches.columns"
   ]
  },
  {
   "cell_type": "code",
   "execution_count": 11,
   "metadata": {},
   "outputs": [
    {
     "name": "stdout",
     "output_type": "stream",
     "text": [
      "968207\n"
     ]
    }
   ],
   "source": [
    "# Execute the SQL command to list all tables\n",
    "cursor.execute(\"SELECT COUNT(*) FROM matches;\")\n",
    "\n",
    "# Fetch all results\n",
    "res = cursor.fetchall()\n",
    "print(res[0][0])"
   ]
  },
  {
   "cell_type": "code",
   "execution_count": 12,
   "metadata": {},
   "outputs": [
    {
     "data": {
      "text/html": [
       "<div>\n",
       "<style scoped>\n",
       "    .dataframe tbody tr th:only-of-type {\n",
       "        vertical-align: middle;\n",
       "    }\n",
       "\n",
       "    .dataframe tbody tr th {\n",
       "        vertical-align: top;\n",
       "    }\n",
       "\n",
       "    .dataframe thead th {\n",
       "        text-align: right;\n",
       "    }\n",
       "</style>\n",
       "<table border=\"1\" class=\"dataframe\">\n",
       "  <thead>\n",
       "    <tr style=\"text-align: right;\">\n",
       "      <th></th>\n",
       "      <th>date</th>\n",
       "      <th>pos</th>\n",
       "      <th>player_id</th>\n",
       "      <th>pts</th>\n",
       "    </tr>\n",
       "  </thead>\n",
       "  <tbody>\n",
       "    <tr>\n",
       "      <th>0</th>\n",
       "      <td>ranking_date</td>\n",
       "      <td>rank</td>\n",
       "      <td>player</td>\n",
       "      <td>points</td>\n",
       "    </tr>\n",
       "    <tr>\n",
       "      <th>1</th>\n",
       "      <td>20000110</td>\n",
       "      <td>1</td>\n",
       "      <td>101736</td>\n",
       "      <td>4135</td>\n",
       "    </tr>\n",
       "    <tr>\n",
       "      <th>2</th>\n",
       "      <td>20000110</td>\n",
       "      <td>2</td>\n",
       "      <td>102338</td>\n",
       "      <td>2915</td>\n",
       "    </tr>\n",
       "    <tr>\n",
       "      <th>3</th>\n",
       "      <td>20000110</td>\n",
       "      <td>3</td>\n",
       "      <td>101948</td>\n",
       "      <td>2419</td>\n",
       "    </tr>\n",
       "    <tr>\n",
       "      <th>4</th>\n",
       "      <td>20000110</td>\n",
       "      <td>4</td>\n",
       "      <td>103017</td>\n",
       "      <td>2184</td>\n",
       "    </tr>\n",
       "  </tbody>\n",
       "</table>\n",
       "</div>"
      ],
      "text/plain": [
       "           date   pos player_id     pts\n",
       "0  ranking_date  rank    player  points\n",
       "1      20000110     1    101736    4135\n",
       "2      20000110     2    102338    2915\n",
       "3      20000110     3    101948    2419\n",
       "4      20000110     4    103017    2184"
      ]
     },
     "execution_count": 12,
     "metadata": {},
     "output_type": "execute_result"
    }
   ],
   "source": [
    "df_ranking = pd.read_sql_query(\"SELECT * FROM ranking LIMIT 5\", cnx)\n",
    "df_ranking"
   ]
  },
  {
   "cell_type": "code",
   "execution_count": 13,
   "metadata": {},
   "outputs": [
    {
     "name": "stdout",
     "output_type": "stream",
     "text": [
      "3292956\n"
     ]
    }
   ],
   "source": [
    "# Execute the SQL command to list all tables\n",
    "cursor.execute(\"SELECT COUNT(*) FROM ranking;\")\n",
    "\n",
    "# Fetch all results\n",
    "res = cursor.fetchall()\n",
    "print(res[0][0])"
   ]
  },
  {
   "cell_type": "markdown",
   "metadata": {},
   "source": [
    "### Visualization"
   ]
  },
  {
   "cell_type": "code",
   "execution_count": 19,
   "metadata": {},
   "outputs": [],
   "source": [
    "# TODO"
   ]
  },
  {
   "cell_type": "markdown",
   "metadata": {},
   "source": [
    "## ELO"
   ]
  },
  {
   "cell_type": "code",
   "execution_count": 20,
   "metadata": {},
   "outputs": [],
   "source": [
    "from tennis_predictor.config.data import ELO_INTERIM_PATH"
   ]
  },
  {
   "cell_type": "code",
   "execution_count": 22,
   "metadata": {},
   "outputs": [
    {
     "data": {
      "text/html": [
       "<div>\n",
       "<style scoped>\n",
       "    .dataframe tbody tr th:only-of-type {\n",
       "        vertical-align: middle;\n",
       "    }\n",
       "\n",
       "    .dataframe tbody tr th {\n",
       "        vertical-align: top;\n",
       "    }\n",
       "\n",
       "    .dataframe thead th {\n",
       "        text-align: right;\n",
       "    }\n",
       "</style>\n",
       "<table border=\"1\" class=\"dataframe\">\n",
       "  <thead>\n",
       "    <tr style=\"text-align: right;\">\n",
       "      <th></th>\n",
       "      <th>player_id</th>\n",
       "      <th>date</th>\n",
       "      <th>tourney_id</th>\n",
       "      <th>match_num</th>\n",
       "      <th>elo</th>\n",
       "      <th>n_matches</th>\n",
       "    </tr>\n",
       "  </thead>\n",
       "  <tbody>\n",
       "    <tr>\n",
       "      <th>0</th>\n",
       "      <td>106387</td>\n",
       "      <td>18770701</td>\n",
       "      <td>NaN</td>\n",
       "      <td>NaN</td>\n",
       "      <td>1500.0</td>\n",
       "      <td>0</td>\n",
       "    </tr>\n",
       "    <tr>\n",
       "      <th>1</th>\n",
       "      <td>112878</td>\n",
       "      <td>18770701</td>\n",
       "      <td>NaN</td>\n",
       "      <td>NaN</td>\n",
       "      <td>1500.0</td>\n",
       "      <td>0</td>\n",
       "    </tr>\n",
       "    <tr>\n",
       "      <th>2</th>\n",
       "      <td>110590</td>\n",
       "      <td>18770701</td>\n",
       "      <td>NaN</td>\n",
       "      <td>NaN</td>\n",
       "      <td>1500.0</td>\n",
       "      <td>0</td>\n",
       "    </tr>\n",
       "    <tr>\n",
       "      <th>3</th>\n",
       "      <td>210241</td>\n",
       "      <td>18770701</td>\n",
       "      <td>NaN</td>\n",
       "      <td>NaN</td>\n",
       "      <td>1500.0</td>\n",
       "      <td>0</td>\n",
       "    </tr>\n",
       "    <tr>\n",
       "      <th>4</th>\n",
       "      <td>109850</td>\n",
       "      <td>18770701</td>\n",
       "      <td>NaN</td>\n",
       "      <td>NaN</td>\n",
       "      <td>1500.0</td>\n",
       "      <td>0</td>\n",
       "    </tr>\n",
       "  </tbody>\n",
       "</table>\n",
       "</div>"
      ],
      "text/plain": [
       "   player_id      date tourney_id  match_num     elo  n_matches\n",
       "0     106387  18770701        NaN        NaN  1500.0          0\n",
       "1     112878  18770701        NaN        NaN  1500.0          0\n",
       "2     110590  18770701        NaN        NaN  1500.0          0\n",
       "3     210241  18770701        NaN        NaN  1500.0          0\n",
       "4     109850  18770701        NaN        NaN  1500.0          0"
      ]
     },
     "execution_count": 22,
     "metadata": {},
     "output_type": "execute_result"
    }
   ],
   "source": [
    "df_elo = pd.read_csv(ELO_INTERIM_PATH.format(surface_type=\"All\"))\n",
    "df_elo.head()"
   ]
  },
  {
   "cell_type": "code",
   "execution_count": 32,
   "metadata": {},
   "outputs": [
    {
     "data": {
      "image/png": "[encoded data removed]",
      "text/plain": [
       "<Figure size 640x480 with 1 Axes>"
      ]
     },
     "metadata": {},
     "output_type": "display_data"
    }
   ],
   "source": [
    "# Show ELO of Koepfer D. (player_id = 136440)\n",
    "df_elo[df_elo[\"player_id\"] == 136440].iloc[1:].set_index(\"date\")[[\"elo\"]].plot()\n",
    "plt.show()"
   ]
  },
  {
   "cell_type": "markdown",
   "metadata": {},
   "source": [
    "## Odds"
   ]
  },
  {
   "cell_type": "code",
   "execution_count": 33,
   "metadata": {},
   "outputs": [
    {
     "name": "stderr",
     "output_type": "stream",
     "text": [
      "/tmp/ipykernel_4897/228035267.py:2: DtypeWarning: Columns (12,15,16,17,18,38,55) have mixed types. Specify dtype option on import or set low_memory=False.\n",
      "  df_odds = pd.read_csv(ODDS_INTERIM_PATH)\n"
     ]
    },
    {
     "data": {
      "text/html": [
       "<div>\n",
       "<style scoped>\n",
       "    .dataframe tbody tr th:only-of-type {\n",
       "        vertical-align: middle;\n",
       "    }\n",
       "\n",
       "    .dataframe tbody tr th {\n",
       "        vertical-align: top;\n",
       "    }\n",
       "\n",
       "    .dataframe thead th {\n",
       "        text-align: right;\n",
       "    }\n",
       "</style>\n",
       "<table border=\"1\" class=\"dataframe\">\n",
       "  <thead>\n",
       "    <tr style=\"text-align: right;\">\n",
       "      <th></th>\n",
       "      <th>ATP</th>\n",
       "      <th>Location</th>\n",
       "      <th>Tournament</th>\n",
       "      <th>Date</th>\n",
       "      <th>Series</th>\n",
       "      <th>Court</th>\n",
       "      <th>Surface</th>\n",
       "      <th>Round</th>\n",
       "      <th>Best of</th>\n",
       "      <th>Winner</th>\n",
       "      <th>...</th>\n",
       "      <th>birth</th>\n",
       "      <th>country</th>\n",
       "      <th>shortName</th>\n",
       "      <th>id_loser</th>\n",
       "      <th>firstName_loser</th>\n",
       "      <th>lastName_loser</th>\n",
       "      <th>hand_loser</th>\n",
       "      <th>birth_loser</th>\n",
       "      <th>country_loser</th>\n",
       "      <th>shortName_loser</th>\n",
       "    </tr>\n",
       "  </thead>\n",
       "  <tbody>\n",
       "    <tr>\n",
       "      <th>0</th>\n",
       "      <td>1.0</td>\n",
       "      <td>Adelaide</td>\n",
       "      <td>AAPT Championships</td>\n",
       "      <td>2001-01-01</td>\n",
       "      <td>International</td>\n",
       "      <td>Outdoor</td>\n",
       "      <td>Hard</td>\n",
       "      <td>1st Round</td>\n",
       "      <td>3.0</td>\n",
       "      <td>Clement A.</td>\n",
       "      <td>...</td>\n",
       "      <td>19771217.0</td>\n",
       "      <td>FRA</td>\n",
       "      <td>Clement A.</td>\n",
       "      <td>102247.0</td>\n",
       "      <td>Andrea</td>\n",
       "      <td>Gaudenzi</td>\n",
       "      <td>R</td>\n",
       "      <td>19730730.0</td>\n",
       "      <td>ITA</td>\n",
       "      <td>Gaudenzi A.</td>\n",
       "    </tr>\n",
       "    <tr>\n",
       "      <th>1</th>\n",
       "      <td>1.0</td>\n",
       "      <td>Adelaide</td>\n",
       "      <td>AAPT Championships</td>\n",
       "      <td>2001-01-01</td>\n",
       "      <td>International</td>\n",
       "      <td>Outdoor</td>\n",
       "      <td>Hard</td>\n",
       "      <td>1st Round</td>\n",
       "      <td>3.0</td>\n",
       "      <td>Henman T.</td>\n",
       "      <td>...</td>\n",
       "      <td>19740906.0</td>\n",
       "      <td>GBR</td>\n",
       "      <td>Henman T.</td>\n",
       "      <td>102257.0</td>\n",
       "      <td>Greg</td>\n",
       "      <td>Rusedski</td>\n",
       "      <td>L</td>\n",
       "      <td>19730906.0</td>\n",
       "      <td>GBR</td>\n",
       "      <td>Rusedski G.</td>\n",
       "    </tr>\n",
       "    <tr>\n",
       "      <th>2</th>\n",
       "      <td>1.0</td>\n",
       "      <td>Adelaide</td>\n",
       "      <td>AAPT Championships</td>\n",
       "      <td>2001-01-01</td>\n",
       "      <td>International</td>\n",
       "      <td>Outdoor</td>\n",
       "      <td>Hard</td>\n",
       "      <td>1st Round</td>\n",
       "      <td>3.0</td>\n",
       "      <td>Hewitt L.</td>\n",
       "      <td>...</td>\n",
       "      <td>19810224.0</td>\n",
       "      <td>AUS</td>\n",
       "      <td>Hewitt L.</td>\n",
       "      <td>101885.0</td>\n",
       "      <td>Wayne</td>\n",
       "      <td>Arthurs</td>\n",
       "      <td>L</td>\n",
       "      <td>19710318.0</td>\n",
       "      <td>AUS</td>\n",
       "      <td>Arthurs W.</td>\n",
       "    </tr>\n",
       "    <tr>\n",
       "      <th>3</th>\n",
       "      <td>1.0</td>\n",
       "      <td>Adelaide</td>\n",
       "      <td>AAPT Championships</td>\n",
       "      <td>2001-01-01</td>\n",
       "      <td>International</td>\n",
       "      <td>Outdoor</td>\n",
       "      <td>Hard</td>\n",
       "      <td>1st Round</td>\n",
       "      <td>3.0</td>\n",
       "      <td>Ljubicic I.</td>\n",
       "      <td>...</td>\n",
       "      <td>19790319.0</td>\n",
       "      <td>CRO</td>\n",
       "      <td>Ljubicic I.</td>\n",
       "      <td>102227.0</td>\n",
       "      <td>Sargis</td>\n",
       "      <td>Sargsian</td>\n",
       "      <td>R</td>\n",
       "      <td>19730603.0</td>\n",
       "      <td>ARM</td>\n",
       "      <td>Sargsian S.</td>\n",
       "    </tr>\n",
       "    <tr>\n",
       "      <th>4</th>\n",
       "      <td>1.0</td>\n",
       "      <td>Adelaide</td>\n",
       "      <td>AAPT Championships</td>\n",
       "      <td>2001-01-01</td>\n",
       "      <td>International</td>\n",
       "      <td>Outdoor</td>\n",
       "      <td>Hard</td>\n",
       "      <td>1st Round</td>\n",
       "      <td>3.0</td>\n",
       "      <td>Malisse X.</td>\n",
       "      <td>...</td>\n",
       "      <td>19800719.0</td>\n",
       "      <td>BEL</td>\n",
       "      <td>Malisse X.</td>\n",
       "      <td>102162.0</td>\n",
       "      <td>Chris</td>\n",
       "      <td>Woodruff</td>\n",
       "      <td>R</td>\n",
       "      <td>19730102.0</td>\n",
       "      <td>USA</td>\n",
       "      <td>Woodruff C.</td>\n",
       "    </tr>\n",
       "  </tbody>\n",
       "</table>\n",
       "<p>5 rows × 70 columns</p>\n",
       "</div>"
      ],
      "text/plain": [
       "   ATP  Location          Tournament        Date         Series    Court  \\\n",
       "0  1.0  Adelaide  AAPT Championships  2001-01-01  International  Outdoor   \n",
       "1  1.0  Adelaide  AAPT Championships  2001-01-01  International  Outdoor   \n",
       "2  1.0  Adelaide  AAPT Championships  2001-01-01  International  Outdoor   \n",
       "3  1.0  Adelaide  AAPT Championships  2001-01-01  International  Outdoor   \n",
       "4  1.0  Adelaide  AAPT Championships  2001-01-01  International  Outdoor   \n",
       "\n",
       "  Surface      Round  Best of       Winner  ...       birth  country  \\\n",
       "0    Hard  1st Round      3.0   Clement A.  ...  19771217.0      FRA   \n",
       "1    Hard  1st Round      3.0    Henman T.  ...  19740906.0      GBR   \n",
       "2    Hard  1st Round      3.0    Hewitt L.  ...  19810224.0      AUS   \n",
       "3    Hard  1st Round      3.0  Ljubicic I.  ...  19790319.0      CRO   \n",
       "4    Hard  1st Round      3.0   Malisse X.  ...  19800719.0      BEL   \n",
       "\n",
       "     shortName  id_loser  firstName_loser lastName_loser hand_loser  \\\n",
       "0   Clement A.  102247.0           Andrea       Gaudenzi          R   \n",
       "1    Henman T.  102257.0             Greg       Rusedski          L   \n",
       "2    Hewitt L.  101885.0            Wayne        Arthurs          L   \n",
       "3  Ljubicic I.  102227.0           Sargis       Sargsian          R   \n",
       "4   Malisse X.  102162.0            Chris       Woodruff          R   \n",
       "\n",
       "  birth_loser country_loser  shortName_loser  \n",
       "0  19730730.0           ITA      Gaudenzi A.  \n",
       "1  19730906.0           GBR      Rusedski G.  \n",
       "2  19710318.0           AUS       Arthurs W.  \n",
       "3  19730603.0           ARM      Sargsian S.  \n",
       "4  19730102.0           USA      Woodruff C.  \n",
       "\n",
       "[5 rows x 70 columns]"
      ]
     },
     "execution_count": 33,
     "metadata": {},
     "output_type": "execute_result"
    }
   ],
   "source": [
    "from tennis_predictor.config.data import ODDS_INTERIM_PATH\n",
    "df_odds = pd.read_csv(ODDS_INTERIM_PATH)\n",
    "df_odds.head()"
   ]
  },
  {
   "cell_type": "code",
   "execution_count": 34,
   "metadata": {},
   "outputs": [
    {
     "data": {
      "text/plain": [
       "Index(['ATP', 'Location', 'Tournament', 'Date', 'Series', 'Court', 'Surface',\n",
       "       'Round', 'Best of', 'Winner', 'Loser', 'WRank', 'LRank', 'W1', 'L1',\n",
       "       'W2', 'L2', 'W3', 'L3', 'W4', 'L4', 'W5', 'L5', 'Wsets', 'Lsets',\n",
       "       'Comment', 'CBW', 'CBL', 'GBW', 'GBL', 'IWW', 'IWL', 'SBW', 'SBL',\n",
       "       'B365W', 'B365L', 'B&WW', 'B&WL', 'EXW', 'EXL', 'PSW', 'PSL', 'WPts',\n",
       "       'LPts', 'UBW', 'UBL', 'LBW', 'LBL', 'SJW', 'SJL', 'MaxW', 'MaxL',\n",
       "       'AvgW', 'AvgL', 'WTA', 'Tier', 'id', 'firstName', 'lastName', 'hand',\n",
       "       'birth', 'country', 'shortName', 'id_loser', 'firstName_loser',\n",
       "       'lastName_loser', 'hand_loser', 'birth_loser', 'country_loser',\n",
       "       'shortName_loser'],\n",
       "      dtype='object')"
      ]
     },
     "execution_count": 34,
     "metadata": {},
     "output_type": "execute_result"
    }
   ],
   "source": [
    "df_odds.columns"
   ]
  },
  {
   "cell_type": "code",
   "execution_count": 39,
   "metadata": {},
   "outputs": [
    {
     "name": "stdout",
     "output_type": "stream",
     "text": [
      "1.53 2.49\n",
      "1.6 2.7\n"
     ]
    }
   ],
   "source": [
    "print(df_odds['AvgW'].median(), df_odds['AvgL'].median())\n",
    "print(df_odds['MaxW'].median(), df_odds['MaxL'].median())"
   ]
  },
  {
   "cell_type": "markdown",
   "metadata": {},
   "source": [
    "# Advise"
   ]
  },
  {
   "cell_type": "code",
   "execution_count": 4,
   "metadata": {},
   "outputs": [
    {
     "name": "stdout",
     "output_type": "stream",
     "text": [
      "Player 207411 has ELO 2124 with 380 matches\n",
      "Player 207925 has ELO 2329 with 324 matches\n",
      "De Jong J. has a 23.5% estimated winrate.\n",
      "We should bet 30.4% of our bankroll on Cobolli F..\n"
     ]
    }
   ],
   "source": [
    "from tennis_predictor import advise\n",
    "advise(\"De Jong J.\", \"Cobolli F.\", 2.3, 1.51)"
   ]
  }
 ],
 "metadata": {
  "kernelspec": {
   "display_name": ".venv",
   "language": "python",
   "name": "python3"
  },
  "language_info": {
   "codemirror_mode": {
    "name": "ipython",
    "version": 3
   },
   "file_extension": ".py",
   "mimetype": "text/x-python",
   "name": "python",
   "nbconvert_exporter": "python",
   "pygments_lexer": "ipython3",
   "version": "3.10.12"
  }
 },
 "nbformat": 4,
 "nbformat_minor": 2
}
